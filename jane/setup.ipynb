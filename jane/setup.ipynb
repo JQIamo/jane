{
 "cells": [
  {
   "cell_type": "markdown",
   "metadata": {},
   "source": [
    "# Setup\n",
    "## Enable\n",
    "Run the following cell once to enable automatic startup (Jane server will run when board is powered up)"
   ]
  },
  {
   "cell_type": "code",
   "execution_count": 1,
   "metadata": {},
   "outputs": [
    {
     "name": "stdout",
     "output_type": "stream",
     "text": [
      "Created symlink from /etc/systemd/system/basic.target.wants/jane_server.service to /lib/systemd/system/jane_server.service.\n",
      "\u001b[1;32m●\u001b[0m jane_server.service - Start Jane Service at Startup\n",
      "   Loaded: loaded (/lib/systemd/system/jane_server.service; enabled; vendor preset: enabled)\n",
      "   Active: \u001b[1;32mactive (running)\u001b[0m since Tue 2021-11-30 10:16:24 UTC; 948ms ago\n",
      " Main PID: 2092 (jane_server.sh)\n",
      "   CGroup: /system.slice/jane_server.service\n",
      "           ├─2092 /bin/bash /home/xilinx/jupyter_notebooks/jane/jane_server.s...\n",
      "           └─2093 python3.6 /home/xilinx/jupyter_notebooks/jane/jane_server.p...\n",
      "\n",
      "Nov 30 10:16:24 pynq systemd[1]: Started Start Jane Service at Startup.\n"
     ]
    }
   ],
   "source": [
    "!cp -f jane_server.service /lib/systemd/system\n",
    "!chmod +x /home/xilinx/jupyter_notebooks/jane/jane_server.py\n",
    "!systemctl start jane_server\n",
    "!systemctl enable jane_server\n",
    "!systemctl status jane_server"
   ]
  },
  {
   "cell_type": "markdown",
   "metadata": {},
   "source": [
    "## Check status\n",
    "Run the following cell once to check if server is up"
   ]
  },
  {
   "cell_type": "code",
   "execution_count": 2,
   "metadata": {},
   "outputs": [
    {
     "name": "stdout",
     "output_type": "stream",
     "text": [
      "\u001b[1;32m●\u001b[0m jane_server.service - Start Jane Service at Startup\r\n",
      "   Loaded: loaded (/lib/systemd/system/jane_server.service; enabled; vendor preset: enabled)\r\n",
      "   Active: \u001b[1;32mactive (running)\u001b[0m since Tue 2021-11-30 10:16:24 UTC; 14s ago\r\n",
      " Main PID: 2092 (jane_server.sh)\r\n",
      "   CGroup: /system.slice/jane_server.service\r\n",
      "           ├─2092 /bin/bash /home/xilinx/jupyter_notebooks/jane/jane_server.s...\r\n",
      "           └─2093 python3.6 /home/xilinx/jupyter_notebooks/jane/jane_server.p...\r\n",
      "\r\n",
      "Nov 30 10:16:24 pynq systemd[1]: Started Start Jane Service at Startup.\r\n"
     ]
    }
   ],
   "source": [
    "!systemctl status jane_server"
   ]
  },
  {
   "cell_type": "markdown",
   "metadata": {},
   "source": [
    "## Disable\n",
    "Run the following cell once to disable automatic startup"
   ]
  },
  {
   "cell_type": "code",
   "execution_count": 3,
   "metadata": {},
   "outputs": [
    {
     "name": "stdout",
     "output_type": "stream",
     "text": [
      "Removed symlink /etc/systemd/system/basic.target.wants/jane_server.service.\r\n"
     ]
    }
   ],
   "source": [
    "!systemctl disable jane_server"
   ]
  },
  {
   "cell_type": "code",
   "execution_count": null,
   "metadata": {},
   "outputs": [],
   "source": []
  }
 ],
 "metadata": {
  "kernelspec": {
   "display_name": "Python 3",
   "language": "python",
   "name": "python3"
  },
  "language_info": {
   "codemirror_mode": {
    "name": "ipython",
    "version": 3
   },
   "file_extension": ".py",
   "mimetype": "text/x-python",
   "name": "python",
   "nbconvert_exporter": "python",
   "pygments_lexer": "ipython3",
   "version": "3.6.0"
  }
 },
 "nbformat": 4,
 "nbformat_minor": 2
}
