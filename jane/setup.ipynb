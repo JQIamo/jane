{
 "cells": [
  {
   "cell_type": "markdown",
   "metadata": {},
   "source": [
    "# Setup\n",
    "Run the following cell once."
   ]
  },
  {
   "cell_type": "code",
   "execution_count": 2,
   "metadata": {},
   "outputs": [
    {
     "name": "stdout",
     "output_type": "stream",
     "text": [
      "\u001b[1;31mWarning:\u001b[0m jane_server.service changed on disk. Run 'systemctl daemon-reload' to reload units.\n",
      "\u001b[1;32m●\u001b[0m jane_server.service - Start Jane Service at Startup\n",
      "   Loaded: loaded (/lib/systemd/system/jane_server.service; enabled; vendor preset: enabled)\n",
      "   Active: \u001b[1;32mactive (running)\u001b[0m since Mon 2021-11-29 17:52:13 UTC; 915ms ago\n",
      " Main PID: 2251 (jane_server.sh)\n",
      "   CGroup: /system.slice/jane_server.service\n",
      "           ├─2251 /bin/bash /home/xilinx/jupyter_notebooks/jane/jane_server.s...\n",
      "           └─2252 python3.6 /home/xilinx/jupyter_notebooks/jane/jane_server.p...\n",
      "\n",
      "Nov 29 17:52:13 pynq systemd[1]: Started Start Jane Service at Startup.\n"
     ]
    }
   ],
   "source": [
    "!cp -f jane_server.service /lib/systemd/system\n",
    "!chmod +x /home/xilinx/jupyter_notebooks/jane/jane_server.py\n",
    "!systemctl start jane_server\n",
    "!systemctl enable jane_server\n",
    "!systemctl status jane_server"
   ]
  },
  {
   "cell_type": "code",
   "execution_count": 2,
   "metadata": {},
   "outputs": [],
   "source": [
    "!systemctl disable jane_server"
   ]
  },
  {
   "cell_type": "code",
   "execution_count": 1,
   "metadata": {},
   "outputs": [
    {
     "name": "stdout",
     "output_type": "stream",
     "text": [
      "● jane_server.service\r\n",
      "   Loaded: not-found (Reason: No such file or directory)\r\n",
      "   Active: inactive (dead)\r\n"
     ]
    }
   ],
   "source": [
    "!systemctl status jane_server"
   ]
  },
  {
   "cell_type": "code",
   "execution_count": null,
   "metadata": {},
   "outputs": [],
   "source": []
  }
 ],
 "metadata": {
  "kernelspec": {
   "display_name": "Python 3",
   "language": "python",
   "name": "python3"
  },
  "language_info": {
   "codemirror_mode": {
    "name": "ipython",
    "version": 3
   },
   "file_extension": ".py",
   "mimetype": "text/x-python",
   "name": "python",
   "nbconvert_exporter": "python",
   "pygments_lexer": "ipython3",
   "version": "3.6.0"
  }
 },
 "nbformat": 4,
 "nbformat_minor": 2
}
